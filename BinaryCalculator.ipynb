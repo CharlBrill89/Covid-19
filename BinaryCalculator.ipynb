{
  "nbformat": 4,
  "nbformat_minor": 0,
  "metadata": {
    "colab": {
      "name": "BinaryCalculator.ipynb",
      "provenance": [],
      "authorship_tag": "ABX9TyNXFvGhuvPj2PWK7OiZGMT7",
      "include_colab_link": true
    },
    "kernelspec": {
      "name": "python3",
      "display_name": "Python 3"
    }
  },
  "cells": [
    {
      "cell_type": "markdown",
      "metadata": {
        "id": "view-in-github",
        "colab_type": "text"
      },
      "source": [
        "<a href=\"https://colab.research.google.com/github/CharlBrill89/Covid-19/blob/master/BinaryCalculator.ipynb\" target=\"_parent\"><img src=\"https://colab.research.google.com/assets/colab-badge.svg\" alt=\"Open In Colab\"/></a>"
      ]
    },
    {
      "cell_type": "code",
      "metadata": {
        "id": "5srpay4f44lV",
        "colab_type": "code",
        "colab": {}
      },
      "source": [
        "import pandas as pd\n"
      ],
      "execution_count": null,
      "outputs": []
    },
    {
      "cell_type": "code",
      "metadata": {
        "id": "ojIP5YMTfAyS",
        "colab_type": "code",
        "colab": {
          "base_uri": "https://localhost:8080/",
          "height": 134
        },
        "outputId": "7b1b4f4e-4df6-4e65-9fb7-b40ab51a9897"
      },
      "source": [
        "# Python 3 implementation of above approach \n",
        "  \n",
        "# Function to convert decimal to  \n",
        "# binary number  \n",
        "def bin(n): \n",
        "      \n",
        "    if (n > 1):  \n",
        "        bin(n >> 1) \n",
        "    print(n & 1, end = \"\") \n",
        "    df = pd.DataFrame(bin(1234)) \n",
        "    #return n + 1\n",
        "\n",
        "# Driver code  \n",
        "df = pd.DataFrame(bin(1234)) \n",
        "print() \n",
        "bin(2) \n",
        "print() \n",
        "bin(3)\n",
        "print() \n",
        "bin(4) \n",
        "print() \n",
        "print(df)"
      ],
      "execution_count": null,
      "outputs": [
        {
          "output_type": "stream",
          "text": [
            "10011010010\n",
            "10\n",
            "11\n",
            "100\n",
            "Empty DataFrame\n",
            "Columns: []\n",
            "Index: []\n"
          ],
          "name": "stdout"
        }
      ]
    },
    {
      "cell_type": "code",
      "metadata": {
        "id": "-Kqur2Op6wIJ",
        "colab_type": "code",
        "colab": {
          "base_uri": "https://localhost:8080/",
          "height": 34
        },
        "outputId": "ac0e68ea-bbf7-4e86-e71a-496fb0fac7d1"
      },
      "source": [
        "bin(3)"
      ],
      "execution_count": null,
      "outputs": [
        {
          "output_type": "stream",
          "text": [
            "11"
          ],
          "name": "stdout"
        }
      ]
    },
    {
      "cell_type": "code",
      "metadata": {
        "id": "Cacz07UANqRA",
        "colab_type": "code",
        "colab": {}
      },
      "source": [
        "tests = [\n",
        "    # [expected, input]\n",
        "    [\"01011110001100111\", \"45385593107843568\"],\n",
        "    [\"101000111101101\", \"509321967506747\"],\n",
        "    [\"011011110000101010000011011\", \"366058562030849490134388085\"],\n",
        "    [\"01111100\", \"15889923\"],\n",
        "    [\"100111001111\", \"800857237867\"],\n",
        "]"
      ],
      "execution_count": 12,
      "outputs": []
    },
    {
      "cell_type": "code",
      "metadata": {
        "id": "Ltw1-ekaL91U",
        "colab_type": "code",
        "colab": {
          "base_uri": "https://localhost:8080/",
          "height": 35
        },
        "outputId": "e1d27ab9-9e93-4d44-b86c-0df35c791d18"
      },
      "source": [
        "tests[0][1]"
      ],
      "execution_count": 16,
      "outputs": [
        {
          "output_type": "execute_result",
          "data": {
            "application/vnd.google.colaboratory.intrinsic": {
              "type": "string"
            },
            "text/plain": [
              "'45385593107843568'"
            ]
          },
          "metadata": {
            "tags": []
          },
          "execution_count": 16
        }
      ]
    },
    {
      "cell_type": "code",
      "metadata": {
        "id": "9GQAX0hyLf5d",
        "colab_type": "code",
        "colab": {}
      },
      "source": [
        "def fake_bin(x):\n",
        "    for digit in str(number):\n",
        "        if int(digit)<5:\n",
        "            print('0', end = \"\")\n",
        "        else:\n",
        "            print('1', end = \"\")\n",
        "\n",
        "\n",
        "number = 45385#593107843568\n",
        "\n",
        "sum_of_digits = 0\n"
      ],
      "execution_count": 19,
      "outputs": []
    },
    {
      "cell_type": "code",
      "metadata": {
        "id": "iQKYztT8N5Qu",
        "colab_type": "code",
        "colab": {
          "base_uri": "https://localhost:8080/",
          "height": 34
        },
        "outputId": "1e31a413-05f3-4012-d918-5b18625f4573"
      },
      "source": [
        "fake_bin(tests[0][1])"
      ],
      "execution_count": 21,
      "outputs": [
        {
          "output_type": "stream",
          "text": [
            "01011"
          ],
          "name": "stdout"
        }
      ]
    }
  ]
}